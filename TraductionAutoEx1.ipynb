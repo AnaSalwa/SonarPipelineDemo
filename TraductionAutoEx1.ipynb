{
  "nbformat": 4,
  "nbformat_minor": 0,
  "metadata": {
    "colab": {
      "provenance": [],
      "authorship_tag": "ABX9TyOopDYV+TimtyYTFRqo6keQ",
      "include_colab_link": true
    },
    "kernelspec": {
      "name": "python3",
      "display_name": "Python 3"
    },
    "language_info": {
      "name": "python"
    }
  },
  "cells": [
    {
      "cell_type": "markdown",
      "metadata": {
        "id": "view-in-github",
        "colab_type": "text"
      },
      "source": [
        "<a href=\"https://colab.research.google.com/github/aynuod/JPA-Jenkins/blob/main/TraductionAutoEx1.ipynb\" target=\"_parent\"><img src=\"https://colab.research.google.com/assets/colab-badge.svg\" alt=\"Open In Colab\"/></a>"
      ]
    },
    {
      "cell_type": "markdown",
      "source": [
        "**1. Constituer le contexte du document en récupérant tous les termes significatifs**"
      ],
      "metadata": {
        "id": "2YIKB2xpqZYl"
      }
    },
    {
      "cell_type": "code",
      "execution_count": 12,
      "metadata": {
        "colab": {
          "base_uri": "https://localhost:8080/"
        },
        "id": "Efb5bkYyk_CL",
        "outputId": "be804000-db85-4757-b47b-10a7ddb7c93f"
      },
      "outputs": [
        {
          "output_type": "stream",
          "name": "stdout",
          "text": [
            "['Get', 'busy', 'living', 'get', 'busy', 'dying', 'live', 'do', 'enough']\n"
          ]
        }
      ],
      "source": [
        "import spacy\n",
        "\n",
        "# Charger le modèle anglais de spaCy\n",
        "nlp = spacy.load('en_core_web_sm')\n",
        "\n",
        "# Texte à traduire\n",
        "text = \"Get busy living or get busy dying.You only live once, but if you do it right, once is enough.\"\n",
        "\n",
        "# Traiter le texte\n",
        "doc = nlp(text)\n",
        "\n",
        "# Récupérer les termes significatifs (noms, adjectifs, verbes)\n",
        "significant_terms = [token.text for token in doc if token.pos_ in ['NOUN', 'ADJ', 'VERB']]\n",
        "print(significant_terms)\n"
      ]
    },
    {
      "cell_type": "markdown",
      "source": [
        "**2. Découper le texte en des phrases simples et récupérer les tags de leurs mots**\n"
      ],
      "metadata": {
        "id": "RXrwoVxXqDYr"
      }
    },
    {
      "cell_type": "code",
      "source": [
        "# Découper le texte en phrases\n",
        "sentences = list(doc.sents)\n",
        "\n",
        "# Récupérer les tags de chaque mot dans chaque phrase\n",
        "for sentence in sentences:\n",
        "    for token in sentence:\n",
        "        print(f'Token: {token.text}, POS: {token.pos_}, Tag: {token.tag_}')\n"
      ],
      "metadata": {
        "colab": {
          "base_uri": "https://localhost:8080/"
        },
        "id": "Ebz4mvouoMxS",
        "outputId": "8c8c8399-14bb-40d4-dcb3-fa3ebfa3d62b"
      },
      "execution_count": 13,
      "outputs": [
        {
          "output_type": "stream",
          "name": "stdout",
          "text": [
            "Token: Get, POS: VERB, Tag: VB\n",
            "Token: busy, POS: ADJ, Tag: JJ\n",
            "Token: living, POS: VERB, Tag: VBG\n",
            "Token: or, POS: CCONJ, Tag: CC\n",
            "Token: get, POS: VERB, Tag: VB\n",
            "Token: busy, POS: ADJ, Tag: JJ\n",
            "Token: dying, POS: VERB, Tag: VBG\n",
            "Token: ., POS: PUNCT, Tag: .\n",
            "Token: You, POS: PRON, Tag: PRP\n",
            "Token: only, POS: ADV, Tag: RB\n",
            "Token: live, POS: VERB, Tag: VBP\n",
            "Token: once, POS: ADV, Tag: RB\n",
            "Token: ,, POS: PUNCT, Tag: ,\n",
            "Token: but, POS: CCONJ, Tag: CC\n",
            "Token: if, POS: SCONJ, Tag: IN\n",
            "Token: you, POS: PRON, Tag: PRP\n",
            "Token: do, POS: VERB, Tag: VBP\n",
            "Token: it, POS: PRON, Tag: PRP\n",
            "Token: right, POS: ADV, Tag: RB\n",
            "Token: ,, POS: PUNCT, Tag: ,\n",
            "Token: once, POS: ADV, Tag: RB\n",
            "Token: is, POS: AUX, Tag: VBZ\n",
            "Token: enough, POS: ADJ, Tag: JJ\n",
            "Token: ., POS: PUNCT, Tag: .\n"
          ]
        }
      ]
    },
    {
      "cell_type": "markdown",
      "source": [
        "**3. Pour chaque phrase, récupérer le sens exact de chaque terme en se basant sur leurs tags et leur contexte**"
      ],
      "metadata": {
        "id": "Df4vZICzqyUT"
      }
    },
    {
      "cell_type": "code",
      "source": [
        "# Exemple simple de désambiguïsation de sens avec spaCy\n",
        "for sentence in sentences:\n",
        "    for token in sentence:\n",
        "        print(f'Token: {token.text}, Lemma: {token.lemma_}, POS: {token.pos_}, Tag: {token.tag_}')\n"
      ],
      "metadata": {
        "colab": {
          "base_uri": "https://localhost:8080/"
        },
        "id": "Rlq4-m2GoT4Y",
        "outputId": "99e50e2b-c731-488f-ca67-7f633a49c4f2"
      },
      "execution_count": 14,
      "outputs": [
        {
          "output_type": "stream",
          "name": "stdout",
          "text": [
            "Token: Get, Lemma: get, POS: VERB, Tag: VB\n",
            "Token: busy, Lemma: busy, POS: ADJ, Tag: JJ\n",
            "Token: living, Lemma: live, POS: VERB, Tag: VBG\n",
            "Token: or, Lemma: or, POS: CCONJ, Tag: CC\n",
            "Token: get, Lemma: get, POS: VERB, Tag: VB\n",
            "Token: busy, Lemma: busy, POS: ADJ, Tag: JJ\n",
            "Token: dying, Lemma: die, POS: VERB, Tag: VBG\n",
            "Token: ., Lemma: ., POS: PUNCT, Tag: .\n",
            "Token: You, Lemma: you, POS: PRON, Tag: PRP\n",
            "Token: only, Lemma: only, POS: ADV, Tag: RB\n",
            "Token: live, Lemma: live, POS: VERB, Tag: VBP\n",
            "Token: once, Lemma: once, POS: ADV, Tag: RB\n",
            "Token: ,, Lemma: ,, POS: PUNCT, Tag: ,\n",
            "Token: but, Lemma: but, POS: CCONJ, Tag: CC\n",
            "Token: if, Lemma: if, POS: SCONJ, Tag: IN\n",
            "Token: you, Lemma: you, POS: PRON, Tag: PRP\n",
            "Token: do, Lemma: do, POS: VERB, Tag: VBP\n",
            "Token: it, Lemma: it, POS: PRON, Tag: PRP\n",
            "Token: right, Lemma: right, POS: ADV, Tag: RB\n",
            "Token: ,, Lemma: ,, POS: PUNCT, Tag: ,\n",
            "Token: once, Lemma: once, POS: ADV, Tag: RB\n",
            "Token: is, Lemma: be, POS: AUX, Tag: VBZ\n",
            "Token: enough, Lemma: enough, POS: ADJ, Tag: JJ\n",
            "Token: ., Lemma: ., POS: PUNCT, Tag: .\n"
          ]
        }
      ]
    },
    {
      "cell_type": "markdown",
      "source": [
        "**4. Récupérer les termes correspondants en français**"
      ],
      "metadata": {
        "id": "9zinYFiXqtwS"
      }
    },
    {
      "cell_type": "code",
      "source": [
        "from transformers import MarianMTModel, MarianTokenizer\n",
        "\n",
        "# Charger le modèle de traduction anglais-français\n",
        "model_name = 'Helsinki-NLP/opus-mt-en-fr'\n",
        "tokenizer = MarianTokenizer.from_pretrained(model_name)\n",
        "model = MarianMTModel.from_pretrained(model_name)\n",
        "\n",
        "# Traduire chaque phrase\n",
        "for sentence in sentences:\n",
        "    translated = model.generate(**tokenizer(sentence.text, return_tensors=\"pt\", padding=True))\n",
        "    translation = [tokenizer.decode(t, skip_special_tokens=True) for t in translated]\n",
        "    print(f'Original: {sentence.text}')\n",
        "    print(f'Translation: {translation[0]}')\n"
      ],
      "metadata": {
        "colab": {
          "base_uri": "https://localhost:8080/"
        },
        "id": "js8PpZO-oYpu",
        "outputId": "0699964d-48ab-4718-a17c-7e9195c2b358"
      },
      "execution_count": 15,
      "outputs": [
        {
          "output_type": "stream",
          "name": "stdout",
          "text": [
            "Original: Get busy living or get busy dying.\n",
            "Translation: Occupez-vous de vivre ou de mourir.\n",
            "Original: You only live once, but if you do it right, once is enough.\n",
            "Translation: Tu ne vis qu'une fois, mais si tu le fais bien, une fois suffit.\n"
          ]
        }
      ]
    },
    {
      "cell_type": "markdown",
      "source": [
        "**5. Pour chaque phrase, afficher à l’utilisateur les propositions de traduction pour les noms, les adjectifs et les verbes**"
      ],
      "metadata": {
        "id": "U3VGSyhBrF3w"
      }
    },
    {
      "cell_type": "code",
      "source": [
        "# Afficher les propositions de traduction pour les noms, adjectifs et verbes\n",
        "for sentence in sentences:\n",
        "    translated = model.generate(**tokenizer(sentence.text, return_tensors=\"pt\", padding=True))\n",
        "    translation = tokenizer.decode(translated[0], skip_special_tokens=True)\n",
        "    print(f'Original: {sentence.text}')\n",
        "    print(f'Translation: {translation}')\n",
        "\n",
        "    # Traiter la traduction pour récupérer les termes significatifs\n",
        "    translated_doc = nlp(translation)\n",
        "    significant_terms_fr = [token.text for token in translated_doc if token.pos_ in ['NOUN', 'ADJ', 'VERB']]\n",
        "    print(f'Significant terms in French: {significant_terms_fr}')\n"
      ],
      "metadata": {
        "colab": {
          "base_uri": "https://localhost:8080/"
        },
        "id": "Hllvqmt0ok-h",
        "outputId": "c3f00a8e-079f-4ead-f460-e23c3e2d46b6"
      },
      "execution_count": 16,
      "outputs": [
        {
          "output_type": "stream",
          "name": "stdout",
          "text": [
            "Original: Get busy living or get busy dying.\n",
            "Translation: Occupez-vous de vivre ou de mourir.\n",
            "Significant terms in French: ['Occupez', 'vous', 'vivre', 'mourir']\n",
            "Original: You only live once, but if you do it right, once is enough.\n",
            "Translation: Tu ne vis qu'une fois, mais si tu le fais bien, une fois suffit.\n",
            "Significant terms in French: ['fois', 'si', 'une', 'fois', 'suffit']\n"
          ]
        }
      ]
    }
  ]
}